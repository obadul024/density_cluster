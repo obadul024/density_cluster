{
 "cells": [
  {
   "cell_type": "markdown",
   "metadata": {},
   "source": [
    "# Density Based Clustering By Obaid Ullah GCS1947 "
   ]
  },
  {
   "cell_type": "code",
   "execution_count": 86,
   "metadata": {},
   "outputs": [],
   "source": [
    "import pandas as pd\n",
    "import numpy as np\n",
    "import networkx as nx\n",
    "\n"
   ]
  },
  {
   "cell_type": "code",
   "execution_count": 87,
   "metadata": {},
   "outputs": [],
   "source": [
    "def get_sortednodes(graph, weight_df):\n",
    "    c = 0\n",
    "    node_w_dict = {'node':[], 'w':[]}\n",
    "    for node in graph.nodes():\n",
    "        node_acc = 0\n",
    "        c = c + 1\n",
    "        #nborlist = nx.classes.function.all_neighbors(G,node)\n",
    "        \n",
    "        #for nbor in nborlist:\n",
    "            \n",
    "            #nbor_weight = G.get_edge_data(node,nbor)\n",
    "            \n",
    "            #this = weight_df.sort_values([node,'w'],ascending=False).groupby('w')\n",
    "            #print(this)\n",
    "            #weight_list = [v['w'].iloc[0] for k, v in this if k==node]\n",
    "            #edge_weight = weight_df.loc[weight_df['u']==node, 'w']\n",
    "            \n",
    "            \n",
    "        nodeW = get_node_weight(weight_df,node )\n",
    "        \n",
    "        node_acc = nodeW + node_acc\n",
    "        #print(node_acc)\n",
    "        node_w_dict['node'].append(node)\n",
    "        node_w_dict['w'].append(round(node_acc,2))\n",
    "        if c==2:\n",
    "            break\n",
    "        \n",
    "        \n",
    "    node_w_df = pd.DataFrame.from_dict(node_w_dict)\n",
    "\n",
    "    return node_w_df.sort_values(by=['w'],ascending=False)\n",
    "\n",
    "\n"
   ]
  },
  {
   "cell_type": "code",
   "execution_count": 88,
   "metadata": {},
   "outputs": [],
   "source": [
    "# clustering \n",
    "\n",
    "\n",
    "def get_edgew(graph):\n",
    "    \n",
    "    \n",
    "    #print('This node',this_node, 'has these many neighbours: ',len(list(this_node_nbors)))\n",
    "    #print()\n",
    "    #cn_nbors = nx.classes.function.all_neighbors(cn,max_node[0])\n",
    "    \n",
    "    \n",
    "    edge_weight = {'u':[], 'v':[], 'w':[]}\n",
    "    \n",
    "    for node in graph.nodes():\n",
    "        this_node_nbors = nx.classes.function.all_neighbors(graph,node)\n",
    "        for nbor in list(this_node_nbors):\n",
    "            wt = 0\n",
    "            \n",
    "            wt = len(list(nx.common_neighbors(graph,node, nbor)))\n",
    "            #print(node, nbor, wt)\n",
    "\n",
    "            edge_weight['u'].append(node)\n",
    "            edge_weight['v'].append(nbor)\n",
    "            edge_weight['w'].append(wt)\n",
    "        this_node_nbors = None\n",
    "        \n",
    "      \n",
    "    edge_weight = pd.DataFrame.from_dict(edge_weight)\n",
    "    return edge_weight\n",
    "    #return edge_weight.sort_values(by=['w'],ascending=False)   \n",
    "   "
   ]
  },
  {
   "cell_type": "code",
   "execution_count": 89,
   "metadata": {},
   "outputs": [],
   "source": [
    "def get_node_weight(w_df, n):\n",
    "    accm_w = 0 \n",
    "    for idx, row in w_df.iterrows():\n",
    "        if row['u']==n:\n",
    "            #print('node ---',row['u'], 'weight ----- ',row['w'])\n",
    "            accm_w = accm_w + row['w']\n",
    "            \n",
    "    return accm_w\n",
    "   "
   ]
  },
  {
   "cell_type": "code",
   "execution_count": 90,
   "metadata": {},
   "outputs": [],
   "source": [
    "def get_sum_nbor(candidate, Graph):\n",
    "        \n",
    "        accm_w = 0\n",
    "        for nodes in Graph.nodes():\n",
    "            nbors = len(list(nx.common_neighbors(G,candidate,node)))\n",
    "            accm_w = accm_w + nbors\n",
    "        return accm_w"
   ]
  },
  {
   "cell_type": "code",
   "execution_count": 91,
   "metadata": {},
   "outputs": [],
   "source": [
    "\n",
    "\n",
    "def total_edges(cluster, graph, e_candidate):\n",
    "    accm_edges = 0\n",
    "    for node in cluster:\n",
    "        edges = graph.number_of_edges(node, e_candidate)\n",
    "        accm_edges = edges + accm_edges\n",
    "       \n",
    "    return accm_edges \n"
   ]
  },
  {
   "cell_type": "code",
   "execution_count": 92,
   "metadata": {},
   "outputs": [],
   "source": [
    "def find_v(cl_n, e_wt):\n",
    "    for idx, rows in e_wt.iterrows():\n",
    "        if cl_n == rows['u']:\n",
    "            #print(idx)\n",
    "            return e_wt.iloc[idx]"
   ]
  },
  {
   "cell_type": "code",
   "execution_count": 93,
   "metadata": {},
   "outputs": [],
   "source": [
    "\n",
    "def cluster_add(cluster,Graph, cluster_nodes_sorted, edge_weights):\n",
    "    \n",
    "    c=0\n",
    "    # start with sorted cluster nodes\n",
    "    for idx, cl_node in cluster_nodes_sorted.iterrows():\n",
    "        \n",
    "        \n",
    "        \n",
    "        \n",
    "        cl_node = cl_node['node']\n",
    "        \n",
    "        #get cluster node neighbors in GRAPH\n",
    "        nborlist = nx.classes.function.all_neighbors(Graph,cl_node)\n",
    "\n",
    "        edge_weight = {'u':[], 'v':[], 'w':[]}\n",
    "\n",
    "        #for each nbor in cluster Node\n",
    "        for nbor in nborlist:\n",
    "            nbr_weight = 0\n",
    "            #print(nbor)\n",
    "            \n",
    "            #chech if this neighbor is in the cluster or not\n",
    "            if nbor not in cluster_nodes_sorted:\n",
    "                #print('True')\n",
    "                \n",
    "                # for every node in the cluster nodes sorted DF\n",
    "                for idx, row in edge_weights.iterrows():\n",
    "                    #check for this nbor and cluster weights in the graph weights table edge_weights\n",
    "                    if row['u'] == cl_node and row['v']== nbor:\n",
    "                        c = c + 1\n",
    "                        if c==2:\n",
    "                            edge_weight = pd.DataFrame.from_dict(edge_weight)\n",
    "                            edge_weight = edge_weight.sort_values(by=['w'],ascending=False)\n",
    "                            return edge_weight\n",
    "                        print(' row form graph',row['u'], row['v'])\n",
    "                        print( 'loop cluster node ', cl_node,'nbor in loop: ',nbor)\n",
    "                        nbr_weight = nbr_weight + row['w']\n",
    "\n",
    "                        edge_weight['u'].append(cl_node)\n",
    "                        edge_weight['v'].append(nbor)\n",
    "                        edge_weight['w'].append(nbr_weight)\n",
    "    edge_weight = pd.DataFrame.from_dict(edge_weight)\n",
    "    edge_weight = edge_weight.sort_values(by=['w'],ascending=False)\n",
    "    return edge_weight"
   ]
  },
  {
   "cell_type": "code",
   "execution_count": 99,
   "metadata": {},
   "outputs": [],
   "source": [
    "\n",
    "def add_nbor_to_cluster(nbor_from_graph):\n",
    "    u , v , w = edge_from_cluster.iloc[0]\n",
    "    cluster.add_edges_from([(u,v,{'w':w})])\n",
    "\n",
    "\n",
    "    density = nx.classes.function.density(cluster)\n",
    "    number_of_nodes = nx.classes.function.number_of_nodes(cluster)\n",
    "\n",
    "\n",
    "    print(number_of_nodes, density)\n",
    "    edges_total = w\n",
    "    cp = edges_total /(number_of_nodes * density)\n",
    "    \n",
    "    if cp<0.2 and density<0.6:\n",
    "        cluster.remove_edges_from([(u,v,{'w':w})])\n",
    "        cluster.remove_node(v)\n",
    "\n",
    "def add_cluster_to_list(cluster, cluster_list):\n",
    "    cluster_list.append(cluster)\n",
    "    return cluster_list\n",
    "    \n",
    "    \n",
    "    \n",
    "    "
   ]
  },
  {
   "cell_type": "code",
   "execution_count": 97,
   "metadata": {},
   "outputs": [],
   "source": [
    "##################------------------MAIN--------------------####################\n",
    "\n",
    "\n",
    "\n",
    "def main_f():\n",
    "\n",
    "    #Read graph into Pandas Dataframe\n",
    "    df = pd.read_csv('file.csv', sep=\"\\t\", names=['u','v','w'])\n",
    "\n",
    "    #read Graph from Pandas Dataframe into Netoworkx Graph\n",
    "\n",
    "    G = nx.from_pandas_edgelist(df,'u','v','w')\n",
    "\n",
    "    #density and cp threshold\n",
    "    density = 0.6\n",
    "    cp = 0.2\n",
    "\n",
    "    #list of clusters from Graph\n",
    "    cluster_list = []\n",
    "\n",
    "    #Get edges weights of this graph\n",
    "    # WARNING !!!!!!!!!!!!!!! TAKES A LONG TIME CHECK THIS FUNCTION CODE TO REMOVE BREAKS BEFORE REMOVING COMMENT\n",
    "    edge_weights = get_edgew(G)\n",
    "    #edge_weights\n",
    "\n",
    "\n",
    "    # WARNING HERE !!!!!! TAKES A LONG TIME \n",
    "    sorted_nodes = get_sortednodes(G, edge_weights)\n",
    "    #sorted_nodes\n",
    "\n",
    "\n",
    "    #get nodes sorted by weight from Graph\n",
    "    #sorted_node_df = get_sortednodes(,G)\n",
    "\n",
    "    #MAKE A NEW CLUSTER \n",
    "    cluster = nx.Graph()\n",
    "\n",
    "    #ADD FIRST TOP NODE TO CLUSTER ACCORDING TO SPECS IN ALGO\n",
    "    #cl_node = sorted_nodes.iloc[0]['node']\n",
    "    \n",
    "    #for each of the top nodes in the Graph \n",
    "    # add them to cluster \n",
    "    i=0\n",
    "    for idx, row in sorted_nodes.iterrows():\n",
    "        if i==1:\n",
    "            break\n",
    "        cl_node = row['node']\n",
    "        # add DESTINATION \"V\" OF THE FIRST NODE \n",
    "        cl_vw = find_v(cl_node, edge_weights)\n",
    "        u,v,w = cl_vw[0],cl_vw[1],cl_vw[2]\n",
    "        print(u,v,w)\n",
    "        cluster.add_edges_from([(u,v,{'w':w})])\n",
    "\n",
    "        # sort nodes in cluster and get their sorted edges and sorted top nodes \n",
    "        cluster_edge_weight = get_edgew(cluster)\n",
    "        cluster_nodes_sorted  = get_sortednodes(cluster, cluster_edge_weight)\n",
    "        #cluster.nodes()\n",
    "\n",
    "        #GET NEIHBORS FROM GRAPH AND ADD THEM TO CLUSTER ACCORDING TO ALGO FLOW\n",
    "        nbor_from_graph = cluster_add(cluster,G, cluster_nodes_sorted,edge_weights)\n",
    "        #ADD THIS CLUSTER TO CLUSTER LIST\n",
    "        cluster_list = add_cluster_to_list(cluster, cluster_list)\n",
    "        #delete this cluster \n",
    "        cluster = None\n",
    "        i=i+1\n",
    "    \n",
    "    return cluster_list"
   ]
  },
  {
   "cell_type": "code",
   "execution_count": 100,
   "metadata": {},
   "outputs": [
    {
     "name": "stdout",
     "output_type": "stream",
     "text": [
      "TFC3 MYO4 208\n",
      " row form graph TFC3 MYO4\n",
      "loop cluster node  TFC3 nbor in loop:  MYO4\n"
     ]
    }
   ],
   "source": [
    "# RUN THIS ALGO\n",
    "\n",
    "\n",
    "myclusters = []\n",
    "\n",
    "myclusters = main_f()"
   ]
  },
  {
   "cell_type": "code",
   "execution_count": 103,
   "metadata": {},
   "outputs": [
    {
     "data": {
      "text/plain": [
       "NodeView(('TFC3', 'MYO4'))"
      ]
     },
     "execution_count": 103,
     "metadata": {},
     "output_type": "execute_result"
    }
   ],
   "source": [
    "myclusters[0].nodes()"
   ]
  },
  {
   "cell_type": "code",
   "execution_count": null,
   "metadata": {},
   "outputs": [],
   "source": []
  }
 ],
 "metadata": {
  "kernelspec": {
   "display_name": "Python 3",
   "language": "python",
   "name": "python3"
  },
  "language_info": {
   "codemirror_mode": {
    "name": "ipython",
    "version": 3
   },
   "file_extension": ".py",
   "mimetype": "text/x-python",
   "name": "python",
   "nbconvert_exporter": "python",
   "pygments_lexer": "ipython3",
   "version": "3.8.5"
  }
 },
 "nbformat": 4,
 "nbformat_minor": 4
}
